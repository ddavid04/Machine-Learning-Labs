{
 "cells": [
  {
   "cell_type": "markdown",
   "id": "0748c151",
   "metadata": {},
   "source": [
    "# 🧪 Lab 3: Unsupervised Learning - Mice Protein Expression"
   ]
  },
  {
   "cell_type": "markdown",
   "id": "b5771695",
   "metadata": {},
   "source": [
    "## Step 1: Load and preprocess the dataset"
   ]
  },
  {
   "cell_type": "code",
   "execution_count": null,
   "id": "060b562c",
   "metadata": {},
   "outputs": [],
   "source": [
    "import pandas as pd\n",
    "df = pd.read_csv(\"Data_Cortex_Nuclear.csv\")\n",
    "df.head()"
   ]
  },
  {
   "cell_type": "markdown",
   "id": "4f524b85",
   "metadata": {},
   "source": [
    "## Step 2: Drop metadata columns and handle missing values"
   ]
  },
  {
   "cell_type": "code",
   "execution_count": null,
   "id": "f9f3898d",
   "metadata": {},
   "outputs": [],
   "source": [
    "df_cleaned = df.drop(columns=[\"MouseID\", \"Genotype\", \"Treatment\", \"Behavior\", \"class\"])\n",
    "df_cleaned = df_cleaned.dropna()\n",
    "df_cleaned.head()"
   ]
  },
  {
   "cell_type": "markdown",
   "id": "77685792",
   "metadata": {},
   "source": [
    "## Step 3: Normalize and apply PCA for visualization"
   ]
  },
  {
   "cell_type": "code",
   "execution_count": null,
   "id": "248c5f0f",
   "metadata": {},
   "outputs": [],
   "source": [
    "from sklearn.preprocessing import StandardScaler\n",
    "from sklearn.decomposition import PCA\n",
    "\n",
    "scaler = StandardScaler()\n",
    "data_scaled = scaler.fit_transform(df_cleaned)\n",
    "\n",
    "pca = PCA(n_components=2)\n",
    "data_pca = pca.fit_transform(data_scaled)\n",
    "\n",
    "import matplotlib.pyplot as plt\n",
    "df_pca = pd.DataFrame(data_pca, columns=[\"PC1\", \"PC2\"])\n",
    "df_pca.head()"
   ]
  },
  {
   "cell_type": "markdown",
   "id": "05acf628",
   "metadata": {},
   "source": [
    "## Step 4: Apply Clustering Algorithms"
   ]
  },
  {
   "cell_type": "code",
   "execution_count": null,
   "id": "0f285e20",
   "metadata": {},
   "outputs": [],
   "source": [
    "from sklearn.cluster import KMeans, DBSCAN\n",
    "from sklearn.mixture import GaussianMixture\n",
    "\n",
    "kmeans = KMeans(n_clusters=8, random_state=42)\n",
    "kmeans_labels = kmeans.fit_predict(data_scaled)\n",
    "\n",
    "gmm = GaussianMixture(n_components=8, random_state=42)\n",
    "gmm_labels = gmm.fit_predict(data_scaled)\n",
    "\n",
    "dbscan = DBSCAN(eps=3, min_samples=5)\n",
    "dbscan_labels = dbscan.fit_predict(data_scaled)"
   ]
  },
  {
   "cell_type": "markdown",
   "id": "756c6bdb",
   "metadata": {},
   "source": [
    "## Step 4.1: Apply Hierarchical Clustering"
   ]
  },
  {
   "cell_type": "code",
   "execution_count": null,
   "id": "cd182497",
   "metadata": {},
   "outputs": [],
   "source": [
    "from scipy.cluster.hierarchy import linkage, fcluster\n",
    "\n",
    "linkage_matrix = linkage(data_scaled, method='ward')\n",
    "hier_labels = fcluster(linkage_matrix, t=8, criterion='maxclust')  # max 8 clusters"
   ]
  },
  {
   "cell_type": "markdown",
   "id": "4f518298",
   "metadata": {},
   "source": [
    "## Step 5: Visualize clustering results using PCA-reduced data"
   ]
  },
  {
   "cell_type": "code",
   "execution_count": null,
   "id": "98354437",
   "metadata": {},
   "outputs": [],
   "source": [
    "fig, axs = plt.subplots(4, 1, figsize=(10, 20))\n",
    "\n",
    "axs[0].scatter(df_pca[\"PC1\"], df_pca[\"PC2\"], c=kmeans_labels, cmap=\"tab10\", s=30)\n",
    "axs[0].set_title(\"K-Means Clustering\")\n",
    "axs[0].set_xlabel(\"PC1\")\n",
    "axs[0].set_ylabel(\"PC2\")\n",
    "\n",
    "axs[1].scatter(df_pca[\"PC1\"], df_pca[\"PC2\"], c=gmm_labels, cmap=\"tab10\", s=30)\n",
    "axs[1].set_title(\"Gaussian Mixture Model Clustering\")\n",
    "axs[1].set_xlabel(\"PC1\")\n",
    "axs[1].set_ylabel(\"PC2\")\n",
    "\n",
    "axs[2].scatter(df_pca[\"PC1\"], df_pca[\"PC2\"], c=hier_labels, cmap=\"tab10\", s=30)\n",
    "axs[2].set_title(\"Hierarchical Clustering\")\n",
    "axs[2].set_xlabel(\"PC1\")\n",
    "axs[2].set_ylabel(\"PC2\")\n",
    "\n",
    "axs[3].scatter(df_pca[\"PC1\"], df_pca[\"PC2\"], c=dbscan_labels, cmap=\"tab10\", s=30)\n",
    "axs[3].set_title(\"DBSCAN Clustering\")\n",
    "axs[3].set_xlabel(\"PC1\")\n",
    "axs[3].set_ylabel(\"PC2\")\n",
    "\n",
    "plt.tight_layout()\n",
    "plt.show()"
   ]
  }
 ],
 "metadata": {},
 "nbformat": 4,
 "nbformat_minor": 5
}
