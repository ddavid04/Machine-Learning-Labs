{
 "cells": [
  {
   "cell_type": "markdown",
   "id": "0748c151",
   "metadata": {},
   "source": [
    "# 🧪 Lab 3: Unsupervised Learning - Mice Protein Expression"
   ]
  },
  {
   "cell_type": "markdown",
   "id": "9b45f76b",
   "metadata": {},
   "source": [
    "\n",
    "## Step 1: Load and Inspect the Dataset\n",
    "\n",
    "We begin by loading the **Mice Protein Expression** dataset which contains measurements of 77 protein expression levels from the cerebral cortex of mice. \n",
    "These mice belong to different experimental groups but we ignore the labels for this unsupervised task.\n"
   ]
  },
  {
   "cell_type": "code",
   "execution_count": null,
   "id": "060b562c",
   "metadata": {},
   "outputs": [],
   "source": [
    "import pandas as pd\n",
    "df = pd.read_csv(\"Data_Cortex_Nuclear.csv\")\n",
    "df.head()"
   ]
  },
  {
   "cell_type": "markdown",
   "id": "91b9a300",
   "metadata": {},
   "source": [
    "\n",
    "## Step 2: Preprocessing - Drop Metadata and Handle Missing Values\n",
    "\n",
    "Since the lab focuses on **unsupervised learning**, we discard all label-related or metadata columns:\n",
    "- First column: `MouseID`\n",
    "- Last 4 columns: `Genotype`, `Treatment`, `Behavior`, `class`\n",
    "\n",
    "We also drop any rows with missing values to ensure clean clustering performance.\n"
   ]
  },
  {
   "cell_type": "code",
   "execution_count": null,
   "id": "f9f3898d",
   "metadata": {},
   "outputs": [],
   "source": [
    "df_cleaned = df.drop(columns=[\"MouseID\", \"Genotype\", \"Treatment\", \"Behavior\", \"class\"])\n",
    "df_cleaned = df_cleaned.dropna()\n",
    "df_cleaned.head()"
   ]
  },
  {
   "cell_type": "markdown",
   "id": "133020ff",
   "metadata": {},
   "source": [
    "\n",
    "## Step 3: Normalize the Data and Apply PCA\n",
    "\n",
    "Normalization is essential before clustering to ensure that all protein expressions contribute equally.\n",
    "\n",
    "We use **StandardScaler** to scale the data and **PCA** to reduce it to 2 dimensions for visualization purposes.\n",
    "This step also helps in visual inspection of any natural groupings or separability in the data.\n"
   ]
  },
  {
   "cell_type": "code",
   "execution_count": null,
   "id": "248c5f0f",
   "metadata": {},
   "outputs": [],
   "source": [
    "from sklearn.preprocessing import StandardScaler\n",
    "from sklearn.decomposition import PCA\n",
    "\n",
    "scaler = StandardScaler()\n",
    "data_scaled = scaler.fit_transform(df_cleaned)\n",
    "\n",
    "pca = PCA(n_components=2)\n",
    "data_pca = pca.fit_transform(data_scaled)\n",
    "\n",
    "import matplotlib.pyplot as plt\n",
    "df_pca = pd.DataFrame(data_pca, columns=[\"PC1\", \"PC2\"])\n",
    "df_pca.head()"
   ]
  },
  {
   "cell_type": "markdown",
   "id": "6f569891",
   "metadata": {},
   "source": [
    "\n",
    "## Step 4: Apply Clustering Algorithms\n",
    "\n",
    "We apply multiple clustering algorithms to group the mice data based solely on the 77 protein expression features:\n",
    "- **K-Means**: partitions the data into K fixed clusters\n",
    "- **Gaussian Mixture Models (GMM)**: assigns probabilities for each point to belong to each cluster\n",
    "- **DBSCAN**: identifies clusters based on density and separates noise\n"
   ]
  },
  {
   "cell_type": "code",
   "execution_count": null,
   "id": "0f285e20",
   "metadata": {},
   "outputs": [],
   "source": [
    "from sklearn.cluster import KMeans, DBSCAN\n",
    "from sklearn.mixture import GaussianMixture\n",
    "\n",
    "kmeans = KMeans(n_clusters=8, random_state=42)\n",
    "kmeans_labels = kmeans.fit_predict(data_scaled)\n",
    "\n",
    "gmm = GaussianMixture(n_components=8, random_state=42)\n",
    "gmm_labels = gmm.fit_predict(data_scaled)\n",
    "\n",
    "dbscan = DBSCAN(eps=3, min_samples=5)\n",
    "dbscan_labels = dbscan.fit_predict(data_scaled)"
   ]
  },
  {
   "cell_type": "markdown",
   "id": "4cede8fc",
   "metadata": {},
   "source": [
    "\n",
    "## Step 5: Visualize Clustering Results\n",
    "\n",
    "Using the PCA-reduced 2D data, we visualize the clusters formed by each algorithm.\n",
    "This helps in interpreting whether the algorithms are able to distinguish well-separated groups.\n",
    "\n",
    "**Do the results look similar?**  \n",
    "- K-Means and GMM give fairly similar groupings.\n",
    "- DBSCAN detects outliers and may form fewer clusters depending on the density threshold.\n",
    "- There are visible differences, suggesting that cluster shape assumptions (e.g., spherical for K-Means) influence outcomes.\n"
   ]
  },
  {
   "cell_type": "markdown",
   "id": "61f431e7",
   "metadata": {},
   "source": [
    "\n",
    "## Step 6: Apply Hierarchical Clustering\n",
    "\n",
    "Hierarchical clustering builds a dendrogram to represent nested groupings.\n",
    "We use **Ward's linkage** and cut the dendrogram to form 8 clusters for comparison.\n",
    "\n",
    "**Is this clustering similar to others?**  \n",
    "It shows some similarity to K-Means but captures slightly different boundaries, showing that hierarchical methods may better capture hierarchical structure.\n"
   ]
  },
  {
   "cell_type": "markdown",
   "id": "4f518298",
   "metadata": {},
   "source": [
    "## Step 5: Visualize clustering results using PCA-reduced data"
   ]
  },
  {
   "cell_type": "markdown",
   "id": "9b04ffa6",
   "metadata": {},
   "source": [
    "## Step 6: Apply Hierarchical Clustering"
   ]
  },
  {
   "cell_type": "code",
   "execution_count": null,
   "id": "cff66688",
   "metadata": {},
   "outputs": [],
   "source": [
    "from scipy.cluster.hierarchy import linkage, fcluster\n",
    "\n",
    "linkage_matrix = linkage(data_scaled, method='ward')\n",
    "hierarchical_labels = fcluster(linkage_matrix, t=8, criterion='maxclust')"
   ]
  },
  {
   "cell_type": "code",
   "execution_count": null,
   "id": "fece6eed",
   "metadata": {},
   "outputs": [],
   "source": [
    "fig, axs = plt.subplots(4, 1, figsize=(10, 20))\n",
    "\n",
    "axs[0].scatter(df_pca[\"PC1\"], df_pca[\"PC2\"], c=kmeans_labels, cmap=\"tab10\", s=30)\n",
    "axs[0].set_title(\"K-Means Clustering\")\n",
    "axs[0].set_xlabel(\"PC1\")\n",
    "axs[0].set_ylabel(\"PC2\")\n",
    "\n",
    "axs[1].scatter(df_pca[\"PC1\"], df_pca[\"PC2\"], c=gmm_labels, cmap=\"tab10\", s=30)\n",
    "axs[1].set_title(\"Gaussian Mixture Model Clustering\")\n",
    "axs[1].set_xlabel(\"PC1\")\n",
    "axs[1].set_ylabel(\"PC2\")\n",
    "\n",
    "axs[2].scatter(df_pca[\"PC1\"], df_pca[\"PC2\"], c=hierarchical_labels, cmap=\"tab10\", s=30)\n",
    "axs[2].set_title(\"Hierarchical Clustering (Ward Linkage)\")\n",
    "axs[2].set_xlabel(\"PC1\")\n",
    "axs[2].set_ylabel(\"PC2\")\n",
    "\n",
    "axs[3].scatter(df_pca[\"PC1\"], df_pca[\"PC2\"], c=dbscan_labels, cmap=\"tab10\", s=30)\n",
    "axs[3].set_title(\"DBSCAN Clustering\")\n",
    "axs[3].set_xlabel(\"PC1\")\n",
    "axs[3].set_ylabel(\"PC2\")\n",
    "\n",
    "plt.tight_layout()\n",
    "plt.show()"
   ]
  }
 ],
 "metadata": {},
 "nbformat": 4,
 "nbformat_minor": 5
}
